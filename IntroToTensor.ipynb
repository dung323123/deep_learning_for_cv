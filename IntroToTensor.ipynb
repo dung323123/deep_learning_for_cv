{
  "nbformat": 4,
  "nbformat_minor": 0,
  "metadata": {
    "colab": {
      "provenance": [],
      "authorship_tag": "ABX9TyP1H7kZD+fnTNI1Sn5Ap+E9",
      "include_colab_link": true
    },
    "kernelspec": {
      "name": "python3",
      "display_name": "Python 3"
    },
    "language_info": {
      "name": "python"
    }
  },
  "cells": [
    {
      "cell_type": "markdown",
      "metadata": {
        "id": "view-in-github",
        "colab_type": "text"
      },
      "source": [
        "<a href=\"https://colab.research.google.com/github/dung323123/deep_learning_for_cv/blob/main/IntroToTensor.ipynb\" target=\"_parent\"><img src=\"https://colab.research.google.com/assets/colab-badge.svg\" alt=\"Open In Colab\"/></a>"
      ]
    },
    {
      "cell_type": "code",
      "execution_count": 94,
      "metadata": {
        "id": "HqIK0FIpyqYE"
      },
      "outputs": [],
      "source": [
        "import tensorflow as tf\n",
        "import numpy as np"
      ]
    },
    {
      "cell_type": "code",
      "source": [],
      "metadata": {
        "id": "KwnGEnz2NQ7p"
      },
      "execution_count": 94,
      "outputs": []
    },
    {
      "cell_type": "code",
      "source": [
        "tensor_zero_d = tf.constant(4)\n",
        "print(tensor_zero_d)"
      ],
      "metadata": {
        "colab": {
          "base_uri": "https://localhost:8080/"
        },
        "id": "0RD5oVoH2EEe",
        "outputId": "7208a6ca-620b-4295-b154-e1a10f329ead"
      },
      "execution_count": 95,
      "outputs": [
        {
          "output_type": "stream",
          "name": "stdout",
          "text": [
            "tf.Tensor(4, shape=(), dtype=int32)\n"
          ]
        }
      ]
    },
    {
      "cell_type": "code",
      "source": [
        "tensor_one_d = tf.constant([2,0,-3, 4.])\n",
        "print(tensor_one_d)"
      ],
      "metadata": {
        "colab": {
          "base_uri": "https://localhost:8080/"
        },
        "id": "JjuuC00d2QBD",
        "outputId": "88fe5740-a06e-458a-b88d-5c9d7b8dbe8c"
      },
      "execution_count": 96,
      "outputs": [
        {
          "output_type": "stream",
          "name": "stdout",
          "text": [
            "tf.Tensor([ 2.  0. -3.  4.], shape=(4,), dtype=float32)\n"
          ]
        }
      ]
    },
    {
      "cell_type": "code",
      "source": [
        "tensor_two_d = tf.constant([\n",
        "    [1,2,0],\n",
        "    [3,5,6],\n",
        "    [-2,0,5],\n",
        "    [4,-1,0]\n",
        "])\n",
        "print(tensor_two_d)"
      ],
      "metadata": {
        "colab": {
          "base_uri": "https://localhost:8080/"
        },
        "id": "GiC9vDW32Yax",
        "outputId": "9b166b4c-ab0c-4c10-e837-aa88b82b129a"
      },
      "execution_count": 97,
      "outputs": [
        {
          "output_type": "stream",
          "name": "stdout",
          "text": [
            "tf.Tensor(\n",
            "[[ 1  2  0]\n",
            " [ 3  5  6]\n",
            " [-2  0  5]\n",
            " [ 4 -1  0]], shape=(4, 3), dtype=int32)\n"
          ]
        }
      ]
    },
    {
      "cell_type": "code",
      "source": [
        "print(tensor_two_d.shape)"
      ],
      "metadata": {
        "colab": {
          "base_uri": "https://localhost:8080/"
        },
        "id": "XR259px-3VP_",
        "outputId": "bc170212-182a-4bf3-b3d1-b8fb099f5a36"
      },
      "execution_count": 98,
      "outputs": [
        {
          "output_type": "stream",
          "name": "stdout",
          "text": [
            "(4, 3)\n"
          ]
        }
      ]
    },
    {
      "cell_type": "code",
      "source": [
        "type_cast_tensor = tf.constant([2,0,-3,8,90], dtype = tf.float32)\n",
        "print(type_cast_tensor)"
      ],
      "metadata": {
        "colab": {
          "base_uri": "https://localhost:8080/"
        },
        "id": "tN1dXYQD39HG",
        "outputId": "1a4612ce-0431-4ad3-c1f6-c8200b758ea8"
      },
      "execution_count": 99,
      "outputs": [
        {
          "output_type": "stream",
          "name": "stdout",
          "text": [
            "tf.Tensor([ 2.  0. -3.  8. 90.], shape=(5,), dtype=float32)\n"
          ]
        }
      ]
    },
    {
      "cell_type": "code",
      "source": [
        "tensor_one_d = tf.constant([2,1,4,5.], dtype = tf.float32)\n",
        "# tensor_one_d = tf.constant([2,1,4,5.], dtype = tf.int32) # error\n",
        "\n",
        "casted_tensor = tf.cast(tensor_one_d, dtype = tf.int32)\n",
        "print(casted_tensor)"
      ],
      "metadata": {
        "colab": {
          "base_uri": "https://localhost:8080/"
        },
        "id": "CgHgsN4C5qRd",
        "outputId": "c04af8db-6481-4cb9-c4de-c0128a4225a0"
      },
      "execution_count": 100,
      "outputs": [
        {
          "output_type": "stream",
          "name": "stdout",
          "text": [
            "tf.Tensor([2 1 4 5], shape=(4,), dtype=int32)\n"
          ]
        }
      ]
    },
    {
      "cell_type": "code",
      "source": [
        "tensor_bool = tf.constant([True, True, False])\n",
        "print(tensor_bool)"
      ],
      "metadata": {
        "colab": {
          "base_uri": "https://localhost:8080/"
        },
        "id": "J3BNNfSj6MCB",
        "outputId": "12b3684c-f32a-4cdd-db57-9c6ed7aa2094"
      },
      "execution_count": 101,
      "outputs": [
        {
          "output_type": "stream",
          "name": "stdout",
          "text": [
            "tf.Tensor([ True  True False], shape=(3,), dtype=bool)\n"
          ]
        }
      ]
    },
    {
      "cell_type": "code",
      "source": [
        "np_array = np.array([1,2,4])\n",
        "print(np_array)\n",
        "converted_array = tf.convert_to_tensor(np_array)\n",
        "print(converted_array)"
      ],
      "metadata": {
        "colab": {
          "base_uri": "https://localhost:8080/"
        },
        "id": "ViL3j3Yp7IRR",
        "outputId": "9c5b7d82-be6f-4337-f1ff-04abf238ecbc"
      },
      "execution_count": 102,
      "outputs": [
        {
          "output_type": "stream",
          "name": "stdout",
          "text": [
            "[1 2 4]\n",
            "tf.Tensor([1 2 4], shape=(3,), dtype=int64)\n"
          ]
        }
      ]
    },
    {
      "cell_type": "code",
      "source": [
        "eye_tensor = tf.eye(\n",
        "    num_rows = 5,\n",
        "    num_columns = 3, # it acts like 3x3 matrix but removes 2 last columns\n",
        "    batch_shape = None,\n",
        "    dtype = tf.float16,\n",
        "    name = None\n",
        ")\n",
        "print(eye_tensor)"
      ],
      "metadata": {
        "colab": {
          "base_uri": "https://localhost:8080/"
        },
        "id": "Hc0L_SR57xvd",
        "outputId": "053369cf-b3fd-4762-c54d-7b683d4d0792"
      },
      "execution_count": 103,
      "outputs": [
        {
          "output_type": "stream",
          "name": "stdout",
          "text": [
            "tf.Tensor(\n",
            "[[1. 0. 0.]\n",
            " [0. 1. 0.]\n",
            " [0. 0. 1.]\n",
            " [0. 0. 0.]\n",
            " [0. 0. 0.]], shape=(5, 3), dtype=float16)\n"
          ]
        }
      ]
    },
    {
      "cell_type": "code",
      "source": [
        "fill_tensor = tf.fill(\n",
        "    [3,4], 5, name = None\n",
        ")\n",
        "print(fill_tensor)"
      ],
      "metadata": {
        "colab": {
          "base_uri": "https://localhost:8080/"
        },
        "id": "w2qazAI89RzJ",
        "outputId": "c9e2dc65-e403-4329-ed6f-8f5300d59771"
      },
      "execution_count": 104,
      "outputs": [
        {
          "output_type": "stream",
          "name": "stdout",
          "text": [
            "tf.Tensor(\n",
            "[[5 5 5 5]\n",
            " [5 5 5 5]\n",
            " [5 5 5 5]], shape=(3, 4), dtype=int32)\n"
          ]
        }
      ]
    },
    {
      "cell_type": "code",
      "source": [
        "ones_tensor = tf.ones(\n",
        "    [5,3],\n",
        "    dtype=tf.float32,\n",
        "    name=None\n",
        ")\n",
        "print(ones_tensor)"
      ],
      "metadata": {
        "colab": {
          "base_uri": "https://localhost:8080/"
        },
        "id": "Flt-98zq9ub8",
        "outputId": "85a50cac-77c6-4ee5-ebf8-22a478b14043"
      },
      "execution_count": 105,
      "outputs": [
        {
          "output_type": "stream",
          "name": "stdout",
          "text": [
            "tf.Tensor(\n",
            "[[1. 1. 1.]\n",
            " [1. 1. 1.]\n",
            " [1. 1. 1.]\n",
            " [1. 1. 1.]\n",
            " [1. 1. 1.]], shape=(5, 3), dtype=float32)\n"
          ]
        }
      ]
    },
    {
      "cell_type": "code",
      "source": [
        "zeros_tensor = tf.zeros(\n",
        "    [3,2],\n",
        "    dtype=tf.float32,\n",
        "    name = None\n",
        ")\n",
        "print(zeros_tensor)"
      ],
      "metadata": {
        "colab": {
          "base_uri": "https://localhost:8080/"
        },
        "id": "jQznSFKp-8YU",
        "outputId": "678fd305-02e3-495d-eea7-11add3d969f0"
      },
      "execution_count": 106,
      "outputs": [
        {
          "output_type": "stream",
          "name": "stdout",
          "text": [
            "tf.Tensor(\n",
            "[[0. 0.]\n",
            " [0. 0.]\n",
            " [0. 0.]], shape=(3, 2), dtype=float32)\n"
          ]
        }
      ]
    },
    {
      "cell_type": "code",
      "source": [
        "t =tf.constant([\n",
        "    [1,2,3],\n",
        "    [4,5,6]\n",
        "])\n",
        "tf.size(t) # return the number of elements"
      ],
      "metadata": {
        "colab": {
          "base_uri": "https://localhost:8080/"
        },
        "id": "enErzHJnAdT7",
        "outputId": "223b24fd-8e41-4da3-bc1a-bc161e370745"
      },
      "execution_count": 107,
      "outputs": [
        {
          "output_type": "execute_result",
          "data": {
            "text/plain": [
              "<tf.Tensor: shape=(), dtype=int32, numpy=6>"
            ]
          },
          "metadata": {},
          "execution_count": 107
        }
      ]
    },
    {
      "cell_type": "code",
      "source": [
        "random_tensor = tf.random.normal(\n",
        "    [3,2],\n",
        "    mean = 10,\n",
        "    stddev = 1.0,\n",
        "    dtype = tf.float32,\n",
        "    seed = 42,\n",
        "    name = None\n",
        ")\n",
        "print(random_tensor)"
      ],
      "metadata": {
        "colab": {
          "base_uri": "https://localhost:8080/"
        },
        "id": "aAQt5Cq9BUfy",
        "outputId": "3f27ba14-f4f2-4ddc-b298-f998812fe2ea"
      },
      "execution_count": 108,
      "outputs": [
        {
          "output_type": "stream",
          "name": "stdout",
          "text": [
            "tf.Tensor(\n",
            "[[10.711891 11.588722]\n",
            " [ 9.19168   9.662909]\n",
            " [10.758076 11.589271]], shape=(3, 2), dtype=float32)\n"
          ]
        }
      ]
    },
    {
      "cell_type": "code",
      "source": [
        "tf.random.set_seed(1)\n",
        "\n",
        "print(tf.random.normal([3,2]))\n",
        "print(tf.random.normal([3,2]))\n"
      ],
      "metadata": {
        "colab": {
          "base_uri": "https://localhost:8080/"
        },
        "id": "ygPmGu_QJmvC",
        "outputId": "297bf4b0-f07c-4b07-a39f-17a1def5afe5"
      },
      "execution_count": 109,
      "outputs": [
        {
          "output_type": "stream",
          "name": "stdout",
          "text": [
            "tf.Tensor(\n",
            "[[-1.1012203   1.5457517 ]\n",
            " [ 0.383644   -0.87965786]\n",
            " [-1.2246722  -0.9811211 ]], shape=(3, 2), dtype=float32)\n",
            "tf.Tensor(\n",
            "[[ 0.40308788 -1.0880208 ]\n",
            " [-0.06309535  1.3365567 ]\n",
            " [ 0.7117601  -0.48928645]], shape=(3, 2), dtype=float32)\n"
          ]
        }
      ]
    },
    {
      "cell_type": "code",
      "source": [
        "#index\n",
        "# (min, max-1, step)\n",
        "# (0,1,2,..) or (...,-3,-2,-1)\n",
        "index_tensor = tf.constant([1,2,6,9,4])\n",
        "print(index_tensor[:5:2])\n",
        "print(index_tensor[::2])\n",
        "print(index_tensor[::-1])\n",
        "print(index_tensor[-2:-4:-1])"
      ],
      "metadata": {
        "colab": {
          "base_uri": "https://localhost:8080/"
        },
        "id": "45P6e03tM4kr",
        "outputId": "a93d6bcc-407d-47f0-b100-9363825222be"
      },
      "execution_count": 110,
      "outputs": [
        {
          "output_type": "stream",
          "name": "stdout",
          "text": [
            "tf.Tensor([1 6 4], shape=(3,), dtype=int32)\n",
            "tf.Tensor([1 6 4], shape=(3,), dtype=int32)\n",
            "tf.Tensor([4 9 6 2 1], shape=(5,), dtype=int32)\n",
            "tf.Tensor([9 6], shape=(2,), dtype=int32)\n"
          ]
        }
      ]
    },
    {
      "cell_type": "code",
      "source": [
        "tensor_two_d = tf.constant([\n",
        "    [1,2,0],\n",
        "    [4,2,-3],\n",
        "    [2,5,-8],\n",
        "    [2,3,0]\n",
        "])"
      ],
      "metadata": {
        "id": "iropqyGhPEFu"
      },
      "execution_count": 111,
      "outputs": []
    },
    {
      "cell_type": "code",
      "source": [
        "# range\n",
        "tf.range(2,6)"
      ],
      "metadata": {
        "colab": {
          "base_uri": "https://localhost:8080/"
        },
        "id": "WcipogVROOIl",
        "outputId": "af4786a0-686c-40f5-c156-51ead7ba1431"
      },
      "execution_count": 112,
      "outputs": [
        {
          "output_type": "execute_result",
          "data": {
            "text/plain": [
              "<tf.Tensor: shape=(4,), dtype=int32, numpy=array([2, 3, 4, 5], dtype=int32)>"
            ]
          },
          "metadata": {},
          "execution_count": 112
        }
      ]
    },
    {
      "cell_type": "code",
      "source": [
        "x_abs = tf.constant([-2.25, 3.25])\n",
        "tf.abs(x_abs)"
      ],
      "metadata": {
        "colab": {
          "base_uri": "https://localhost:8080/"
        },
        "id": "NMIrDt8Ag_cR",
        "outputId": "d8ac2942-9e4c-4960-e22b-9cbb2fb736db"
      },
      "execution_count": 113,
      "outputs": [
        {
          "output_type": "execute_result",
          "data": {
            "text/plain": [
              "<tf.Tensor: shape=(2,), dtype=float32, numpy=array([2.25, 3.25], dtype=float32)>"
            ]
          },
          "metadata": {},
          "execution_count": 113
        }
      ]
    },
    {
      "cell_type": "code",
      "source": [
        "x_abs_complex = tf.constant([-2.25 + 4.75j])\n",
        "print(tf.abs(x_abs_complex))\n",
        "print(tf.sqrt((-2.25)**2 + 4.75**2))"
      ],
      "metadata": {
        "colab": {
          "base_uri": "https://localhost:8080/"
        },
        "id": "xj9QB9xUhhYE",
        "outputId": "a16dc88f-0efd-4ea1-feb8-f981ded449ec"
      },
      "execution_count": 114,
      "outputs": [
        {
          "output_type": "stream",
          "name": "stdout",
          "text": [
            "tf.Tensor([5.25594901], shape=(1,), dtype=float64)\n",
            "tf.Tensor(5.255949, shape=(), dtype=float32)\n"
          ]
        }
      ]
    },
    {
      "cell_type": "code",
      "source": [
        "x1 = tf.constant([2,3,4])\n",
        "x2 = tf.constant([-2,0,3])\n",
        "print(tf.add(x1,x2))\n",
        "print(tf.multiply(x1,x2))"
      ],
      "metadata": {
        "colab": {
          "base_uri": "https://localhost:8080/"
        },
        "id": "tdTQXsHOhz0q",
        "outputId": "580e335b-69eb-4310-89cb-5fbedd4750fd"
      },
      "execution_count": 115,
      "outputs": [
        {
          "output_type": "stream",
          "name": "stdout",
          "text": [
            "tf.Tensor([0 3 7], shape=(3,), dtype=int32)\n",
            "tf.Tensor([-4  0 12], shape=(3,), dtype=int32)\n"
          ]
        }
      ]
    },
    {
      "cell_type": "code",
      "source": [
        "x1 = tf.constant([2,3,5])\n",
        "x2 = tf.constant([-2])\n",
        "tf.add(x1,x2) # x2 = [-2, -2, -2]"
      ],
      "metadata": {
        "colab": {
          "base_uri": "https://localhost:8080/"
        },
        "id": "HV82-hnGirUb",
        "outputId": "84c06d03-2c27-4a25-9cdc-c2b4843e26ef"
      },
      "execution_count": 116,
      "outputs": [
        {
          "output_type": "execute_result",
          "data": {
            "text/plain": [
              "<tf.Tensor: shape=(3,), dtype=int32, numpy=array([0, 1, 3], dtype=int32)>"
            ]
          },
          "metadata": {},
          "execution_count": 116
        }
      ]
    },
    {
      "cell_type": "code",
      "source": [
        "x1 = tf.constant([[2,3,5]])\n",
        "x2 = tf.constant([[1],[4],[7]])\n",
        "print(tf.multiply(x1,x2))\n",
        "print(tf.math.multiply(x1,x2))"
      ],
      "metadata": {
        "colab": {
          "base_uri": "https://localhost:8080/"
        },
        "id": "gJGToIFAq-v6",
        "outputId": "f9d360c2-c3eb-4361-925b-8f4566dba890"
      },
      "execution_count": 117,
      "outputs": [
        {
          "output_type": "stream",
          "name": "stdout",
          "text": [
            "tf.Tensor(\n",
            "[[ 2  3  5]\n",
            " [ 8 12 20]\n",
            " [14 21 35]], shape=(3, 3), dtype=int32)\n",
            "tf.Tensor(\n",
            "[[ 2  3  5]\n",
            " [ 8 12 20]\n",
            " [14 21 35]], shape=(3, 3), dtype=int32)\n"
          ]
        }
      ]
    },
    {
      "cell_type": "code",
      "source": [
        "x_argmax = tf.constant([2,3,-1,2,4])\n",
        "print(tf.math.argmin(x_argmax))\n",
        "print(tf.math.argmax(x_argmax))"
      ],
      "metadata": {
        "colab": {
          "base_uri": "https://localhost:8080/"
        },
        "id": "lNORqWKxt-ML",
        "outputId": "14e03ee2-e705-4f7e-cafb-98e95a9f1d58"
      },
      "execution_count": 118,
      "outputs": [
        {
          "output_type": "stream",
          "name": "stdout",
          "text": [
            "tf.Tensor(2, shape=(), dtype=int64)\n",
            "tf.Tensor(4, shape=(), dtype=int64)\n"
          ]
        }
      ]
    },
    {
      "cell_type": "markdown",
      "source": [
        "![image.png](data:image/png;base64,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)"
      ],
      "metadata": {
        "id": "wczfDM_Xu9zb"
      }
    },
    {
      "cell_type": "code",
      "source": [
        "x_argmax = tf.constant([[-1,2,1],\n",
        "                       [3,0,5],\n",
        "                       [6,-2,1]])\n",
        "print(tf.math.argmax(x_argmax,0)) # working on each column\n",
        "print(tf.math.argmax(x_argmax,1)) # working on each row"
      ],
      "metadata": {
        "colab": {
          "base_uri": "https://localhost:8080/"
        },
        "id": "Vj3vMF7Du45w",
        "outputId": "f4679f61-2a4c-44b0-eca4-27f3e2f9f1d1"
      },
      "execution_count": 119,
      "outputs": [
        {
          "output_type": "stream",
          "name": "stdout",
          "text": [
            "tf.Tensor([2 0 1], shape=(3,), dtype=int64)\n",
            "tf.Tensor([1 2 0], shape=(3,), dtype=int64)\n"
          ]
        }
      ]
    },
    {
      "cell_type": "code",
      "source": [
        "x = tf.constant([[2,2],\n",
        "                 [3,3]])\n",
        "y = tf.constant([[3,0],\n",
        "                 [1,4]])\n",
        "tf.pow(x,y)"
      ],
      "metadata": {
        "colab": {
          "base_uri": "https://localhost:8080/"
        },
        "id": "osUFWME9u-4i",
        "outputId": "2d4b8f5e-eca8-4f09-cc01-214174b933bc"
      },
      "execution_count": 120,
      "outputs": [
        {
          "output_type": "execute_result",
          "data": {
            "text/plain": [
              "<tf.Tensor: shape=(2, 2), dtype=int32, numpy=\n",
              "array([[ 8,  1],\n",
              "       [ 3, 81]], dtype=int32)>"
            ]
          },
          "metadata": {},
          "execution_count": 120
        }
      ]
    },
    {
      "cell_type": "code",
      "source": [
        "# reduce operation\n",
        "x = tf.constant([[1,2,3],\n",
        "                 [1,2,3]])\n",
        "print(tf.reduce_sum(x, axis = 1, keepdims = True))\n",
        "print(tf.reduce_sum(x, axis = 1, keepdims = False))\n",
        "print(tf.reduce_sum(x, axis = 0, keepdims = True))\n",
        "print(tf.reduce_sum(x, axis = 0, keepdims = False))"
      ],
      "metadata": {
        "colab": {
          "base_uri": "https://localhost:8080/"
        },
        "id": "1GdDCTpj0QqS",
        "outputId": "844fd6ef-41d3-42c5-f41d-470e5686af06"
      },
      "execution_count": 121,
      "outputs": [
        {
          "output_type": "stream",
          "name": "stdout",
          "text": [
            "tf.Tensor(\n",
            "[[6]\n",
            " [6]], shape=(2, 1), dtype=int32)\n",
            "tf.Tensor([6 6], shape=(2,), dtype=int32)\n",
            "tf.Tensor([[2 4 6]], shape=(1, 3), dtype=int32)\n",
            "tf.Tensor([2 4 6], shape=(3,), dtype=int32)\n"
          ]
        }
      ]
    },
    {
      "cell_type": "code",
      "source": [
        "# reduce operation\n",
        "x = tf.constant([[1,2,3],\n",
        "                 [1,2,3]])\n",
        "print(tf.reduce_mean(x, axis = 1, keepdims = True))\n",
        "print(tf.reduce_mean(x, axis = 1, keepdims = False))\n",
        "print(tf.reduce_mean(x, axis = 0, keepdims = True))\n",
        "print(tf.reduce_mean(x, axis = 0, keepdims = False))"
      ],
      "metadata": {
        "colab": {
          "base_uri": "https://localhost:8080/"
        },
        "id": "At7z1gAX2wsX",
        "outputId": "081cb96f-b8a1-43c3-b5b5-594f9dcc859b"
      },
      "execution_count": 122,
      "outputs": [
        {
          "output_type": "stream",
          "name": "stdout",
          "text": [
            "tf.Tensor(\n",
            "[[2]\n",
            " [2]], shape=(2, 1), dtype=int32)\n",
            "tf.Tensor([2 2], shape=(2,), dtype=int32)\n",
            "tf.Tensor([[1 2 3]], shape=(1, 3), dtype=int32)\n",
            "tf.Tensor([1 2 3], shape=(3,), dtype=int32)\n"
          ]
        }
      ]
    },
    {
      "cell_type": "code",
      "source": [
        "x1 = tf.constant([[2,4,5],\n",
        "                  [1,3,4]])\n",
        "x2 = tf.constant([[2,3],\n",
        "                 [6,7],\n",
        "                 [1,5]])\n",
        "tf.linalg.matmul(x1,x2) # same as x1@x2"
      ],
      "metadata": {
        "colab": {
          "base_uri": "https://localhost:8080/"
        },
        "id": "jBPA52qI4ErD",
        "outputId": "696b6ebd-33fd-4afe-b53b-74c2afe9bbda"
      },
      "execution_count": 123,
      "outputs": [
        {
          "output_type": "execute_result",
          "data": {
            "text/plain": [
              "<tf.Tensor: shape=(2, 2), dtype=int32, numpy=\n",
              "array([[33, 59],\n",
              "       [24, 44]], dtype=int32)>"
            ]
          },
          "metadata": {},
          "execution_count": 123
        }
      ]
    },
    {
      "cell_type": "code",
      "source": [
        "tf.transpose(x1)"
      ],
      "metadata": {
        "id": "zRHNC0QT4vo1",
        "outputId": "49038269-6aad-487a-df6d-ffd8c1804157",
        "colab": {
          "base_uri": "https://localhost:8080/"
        }
      },
      "execution_count": 124,
      "outputs": [
        {
          "output_type": "execute_result",
          "data": {
            "text/plain": [
              "<tf.Tensor: shape=(3, 2), dtype=int32, numpy=\n",
              "array([[2, 1],\n",
              "       [4, 3],\n",
              "       [5, 4]], dtype=int32)>"
            ]
          },
          "metadata": {},
          "execution_count": 124
        }
      ]
    },
    {
      "cell_type": "code",
      "source": [
        "tensor_three_d = tf.constant([[[1,2],[3,4]],[[2,0],[-3,1]]])\n",
        "print(tensor_three_d.shape)"
      ],
      "metadata": {
        "colab": {
          "base_uri": "https://localhost:8080/"
        },
        "id": "nQW3wEtqNSvo",
        "outputId": "a7a1ecc1-a2d8-47e4-c381-fff560083165"
      },
      "execution_count": 125,
      "outputs": [
        {
          "output_type": "stream",
          "name": "stdout",
          "text": [
            "(2, 2, 2)\n"
          ]
        }
      ]
    },
    {
      "cell_type": "code",
      "source": [
        "# expand dims\n",
        "# increase the input 1 more dimension, the new dimension is length 1\n",
        "input = tf.random.uniform([2,4,3])\n",
        "print(input.shape)\n",
        "print(tf.expand_dims(input, 0).shape)\n",
        "print(tf.expand_dims(input, 1).shape)\n",
        "print(tf.expand_dims(input, 2).shape)\n",
        "print(tf.expand_dims(input, 3).shape)\n",
        "print(type(tf))\n",
        "print(type(input))\n"
      ],
      "metadata": {
        "colab": {
          "base_uri": "https://localhost:8080/"
        },
        "id": "s73IumgKN2Ac",
        "outputId": "5c876e7b-eac5-4422-ef8e-7edbff6bc063"
      },
      "execution_count": 126,
      "outputs": [
        {
          "output_type": "stream",
          "name": "stdout",
          "text": [
            "(2, 4, 3)\n",
            "(1, 2, 4, 3)\n",
            "(2, 1, 4, 3)\n",
            "(2, 4, 1, 3)\n",
            "(2, 4, 3, 1)\n",
            "<class 'module'>\n",
            "<class 'tensorflow.python.framework.ops.EagerTensor'>\n"
          ]
        }
      ]
    },
    {
      "cell_type": "code",
      "source": [
        "# squeeze\n",
        "# remove dimensions of size 1\n",
        "input = tf.random.uniform([2,1,3,1,1,5])\n",
        "print(input.shape)\n",
        "print(tf.squeeze(input).shape)\n",
        "print(tf.squeeze(input, [1, 3]).shape)\n"
      ],
      "metadata": {
        "colab": {
          "base_uri": "https://localhost:8080/"
        },
        "id": "uXfiw7lGOpHt",
        "outputId": "ec61bf5c-991d-45d3-ce43-59fedadc09a1"
      },
      "execution_count": 127,
      "outputs": [
        {
          "output_type": "stream",
          "name": "stdout",
          "text": [
            "(2, 1, 3, 1, 1, 5)\n",
            "(2, 3, 5)\n",
            "(2, 3, 1, 5)\n"
          ]
        }
      ]
    },
    {
      "cell_type": "code",
      "source": [
        "input = tf.constant([\n",
        "    [2,3,4],\n",
        "    [1,0,5]\n",
        "])\n",
        "# error print(tf.reshape(input,[7]))\n",
        "print(tf.reshape(input,[6]))\n",
        "print(tf.reshape(input, [3,2]))\n",
        "print(tf.reshape(input, [1,6]))"
      ],
      "metadata": {
        "colab": {
          "base_uri": "https://localhost:8080/"
        },
        "id": "bejnrpEsSnwT",
        "outputId": "95d745a9-d842-441c-baf4-d72dea3cec6b"
      },
      "execution_count": 128,
      "outputs": [
        {
          "output_type": "stream",
          "name": "stdout",
          "text": [
            "tf.Tensor([2 3 4 1 0 5], shape=(6,), dtype=int32)\n",
            "tf.Tensor(\n",
            "[[2 3]\n",
            " [4 1]\n",
            " [0 5]], shape=(3, 2), dtype=int32)\n",
            "tf.Tensor([[2 3 4 1 0 5]], shape=(1, 6), dtype=int32)\n"
          ]
        }
      ]
    },
    {
      "cell_type": "code",
      "source": [
        "#concat\n",
        "# axis = 0 --> increase num of row\n",
        "# the number of dimensions of inputs much match, and all dimension except axis must be equal\n",
        "t1 = [[1,2,3],[4,5,6]]\n",
        "t2 = [[7,8,9],[10,11,12]]\n",
        "print(tf.concat([t1,t2], 0))\n",
        "print(tf.concat([t1,t2], 1))"
      ],
      "metadata": {
        "colab": {
          "base_uri": "https://localhost:8080/"
        },
        "id": "lT_F_rvHUX9G",
        "outputId": "9f5f6248-1191-4aff-b782-9ab99e688caf"
      },
      "execution_count": 129,
      "outputs": [
        {
          "output_type": "stream",
          "name": "stdout",
          "text": [
            "tf.Tensor(\n",
            "[[ 1  2  3]\n",
            " [ 4  5  6]\n",
            " [ 7  8  9]\n",
            " [10 11 12]], shape=(4, 3), dtype=int32)\n",
            "tf.Tensor(\n",
            "[[ 1  2  3  7  8  9]\n",
            " [ 4  5  6 10 11 12]], shape=(2, 6), dtype=int32)\n"
          ]
        }
      ]
    },
    {
      "cell_type": "code",
      "source": [
        "t1 = [[2,3,5],\n",
        "      [-1,0,4]]\n",
        "t2 = [[3,6,7],\n",
        "      [-1,2,5]]\n",
        "print(tf.stack([t1,t2], axis = 2))"
      ],
      "metadata": {
        "colab": {
          "base_uri": "https://localhost:8080/"
        },
        "id": "1oUxORNZVwSJ",
        "outputId": "a60c689c-ff45-41df-8110-af819dbc6897"
      },
      "execution_count": 130,
      "outputs": [
        {
          "output_type": "stream",
          "name": "stdout",
          "text": [
            "tf.Tensor(\n",
            "[[[ 2  3]\n",
            "  [ 3  6]\n",
            "  [ 5  7]]\n",
            "\n",
            " [[-1 -1]\n",
            "  [ 0  2]\n",
            "  [ 4  5]]], shape=(2, 3, 2), dtype=int32)\n"
          ]
        }
      ]
    },
    {
      "cell_type": "code",
      "source": [
        "tensor2_D = [[1,2,3],\n",
        "             [0],\n",
        "             [2,1,-3,5,6]\n",
        "             ]\n",
        "print(tensor2_D)\n",
        "# print(tensor2_D.shape)  error\n",
        "tensor_ragged = tf.ragged.constant(tensor2_D)\n",
        "print(tensor_ragged.shape)\n",
        "print(tensor_ragged)"
      ],
      "metadata": {
        "colab": {
          "base_uri": "https://localhost:8080/"
        },
        "id": "UOMzsZyJTZXE",
        "outputId": "bc80d631-ca55-4d5a-faa2-463540aaf2ef"
      },
      "execution_count": 131,
      "outputs": [
        {
          "output_type": "stream",
          "name": "stdout",
          "text": [
            "[[1, 2, 3], [0], [2, 1, -3, 5, 6]]\n",
            "(3, None)\n",
            "<tf.RaggedTensor [[1, 2, 3], [0], [2, 1, -3, 5, 6]]>\n"
          ]
        }
      ]
    },
    {
      "cell_type": "code",
      "source": [
        "print(tf.RaggedTensor.from_row_lengths(\n",
        "    values = [3,1,4,1,5,9,2,6],\n",
        "    row_lengths = [4,0,3,1,0]\n",
        "))"
      ],
      "metadata": {
        "colab": {
          "base_uri": "https://localhost:8080/"
        },
        "id": "zawdtYDXYAg9",
        "outputId": "d14de0bf-63ae-4097-8fd3-f6f6ad57a998"
      },
      "execution_count": 132,
      "outputs": [
        {
          "output_type": "stream",
          "name": "stdout",
          "text": [
            "<tf.RaggedTensor [[3, 1, 4, 1], [], [5, 9, 2], [6], []]>\n"
          ]
        }
      ]
    },
    {
      "cell_type": "code",
      "source": [
        "print(tf.RaggedTensor.from_row_splits(\n",
        "    values = [3,1,4,1,5,9,2,6],\n",
        "    row_splits = [0,4,4,7,8,8] # 0->4, 4->4, 4->7, 7->8, 8->8\n",
        "))"
      ],
      "metadata": {
        "colab": {
          "base_uri": "https://localhost:8080/"
        },
        "id": "aeNhipxaYZ4d",
        "outputId": "2cbedfb6-2327-4743-e346-b367c8d9169c"
      },
      "execution_count": 133,
      "outputs": [
        {
          "output_type": "stream",
          "name": "stdout",
          "text": [
            "<tf.RaggedTensor [[3, 1, 4, 1], [], [5, 9, 2], [6], []]>\n"
          ]
        }
      ]
    },
    {
      "cell_type": "markdown",
      "source": [
        "# SPARSE TENSOR"
      ],
      "metadata": {
        "id": "6nJrd-5vZfcj"
      }
    },
    {
      "cell_type": "code",
      "source": [
        "tensor_sparse = tf.sparse.SparseTensor(\n",
        "    indices = [[1,1], [3,4]], values = [11,56], dense_shape = [5,6]\n",
        ")\n",
        "print(tensor_sparse)"
      ],
      "metadata": {
        "colab": {
          "base_uri": "https://localhost:8080/"
        },
        "id": "Gg1FGPwJZinE",
        "outputId": "1a24898d-2882-4e16-c34c-8a8064e4813f"
      },
      "execution_count": 134,
      "outputs": [
        {
          "output_type": "stream",
          "name": "stdout",
          "text": [
            "SparseTensor(indices=tf.Tensor(\n",
            "[[1 1]\n",
            " [3 4]], shape=(2, 2), dtype=int64), values=tf.Tensor([11 56], shape=(2,), dtype=int32), dense_shape=tf.Tensor([5 6], shape=(2,), dtype=int64))\n"
          ]
        }
      ]
    },
    {
      "cell_type": "code",
      "source": [
        "tf.sparse.to_dense(tensor_sparse)"
      ],
      "metadata": {
        "colab": {
          "base_uri": "https://localhost:8080/"
        },
        "id": "xbU4hScHafQq",
        "outputId": "5485ea2c-ee6a-4038-caf6-aaac2e3e44c6"
      },
      "execution_count": 135,
      "outputs": [
        {
          "output_type": "execute_result",
          "data": {
            "text/plain": [
              "<tf.Tensor: shape=(5, 6), dtype=int32, numpy=\n",
              "array([[ 0,  0,  0,  0,  0,  0],\n",
              "       [ 0, 11,  0,  0,  0,  0],\n",
              "       [ 0,  0,  0,  0,  0,  0],\n",
              "       [ 0,  0,  0,  0, 56,  0],\n",
              "       [ 0,  0,  0,  0,  0,  0]], dtype=int32)>"
            ]
          },
          "metadata": {},
          "execution_count": 135
        }
      ]
    },
    {
      "cell_type": "markdown",
      "source": [
        "# STRING TENSOR"
      ],
      "metadata": {
        "id": "9HfnfYRba1bB"
      }
    },
    {
      "cell_type": "code",
      "source": [
        "tensor_string = tf.constant([\"hello\", \"i am\", \"a string\"])\n",
        "print(tensor_string)"
      ],
      "metadata": {
        "colab": {
          "base_uri": "https://localhost:8080/"
        },
        "id": "XkO_B7iUa0k3",
        "outputId": "b406cf1d-fe5d-4624-af97-b21479b2df01"
      },
      "execution_count": 136,
      "outputs": [
        {
          "output_type": "stream",
          "name": "stdout",
          "text": [
            "tf.Tensor([b'hello' b'i am' b'a string'], shape=(3,), dtype=string)\n"
          ]
        }
      ]
    },
    {
      "cell_type": "code",
      "source": [
        "tf.strings.join(tensor_string, separator = \"\")"
      ],
      "metadata": {
        "colab": {
          "base_uri": "https://localhost:8080/"
        },
        "id": "-SRoYsVfbUo0",
        "outputId": "a022b7a9-0492-4b31-f84c-dd720b6d66ae"
      },
      "execution_count": 137,
      "outputs": [
        {
          "output_type": "execute_result",
          "data": {
            "text/plain": [
              "<tf.Tensor: shape=(), dtype=string, numpy=b'helloi ama string'>"
            ]
          },
          "metadata": {},
          "execution_count": 137
        }
      ]
    }
  ]
}